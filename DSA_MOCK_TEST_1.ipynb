{
 "cells": [
  {
   "cell_type": "markdown",
   "id": "421ec31e",
   "metadata": {},
   "source": [
    "**Q.1** Given an integer array nums, move all 0's to the end of it while maintaining the relative order of the non-zero elements.\n",
    "\n",
    "Example 1:\n",
    "Input: nums = [0,1,0,3,12]\n",
    "Output: [1,3,12,0,0]\n",
    "\n",
    "Example 2:\n",
    "Input: nums = [0]\n",
    "Output: [0]\n",
    "\n",
    "Constraints:\n",
    "a. 1 <= nums.length <= 10^4\n",
    "b. -2^31 <= nums[i] <= 2^31 - 1\n"
   ]
  },
  {
   "cell_type": "code",
   "execution_count": 10,
   "id": "a1eb7bf7",
   "metadata": {},
   "outputs": [],
   "source": [
    "# Ans.1 \n",
    "\n",
    "def move_all_zeros(nums):\n",
    " \n",
    "  count = 0\n",
    "  for i in range(len(nums)):\n",
    "    if nums[i] != 0:\n",
    "      nums[count] = nums[i]\n",
    "      count += 1\n",
    "\n",
    "  for i in range(count, len(nums)):\n",
    "    nums[i] = 0\n",
    "\n",
    "  return nums\n"
   ]
  },
  {
   "cell_type": "code",
   "execution_count": 32,
   "id": "c43f2799",
   "metadata": {},
   "outputs": [
    {
     "name": "stdout",
     "output_type": "stream",
     "text": [
      "[1, 3, 12, 0, 0]\n"
     ]
    }
   ],
   "source": [
    "nums = [0, 1, 0, 3, 12]\n",
    "new_nums = move_all_zeros(nums)\n",
    "print(new_nums)\n"
   ]
  },
  {
   "cell_type": "code",
   "execution_count": null,
   "id": "20460f0a",
   "metadata": {},
   "outputs": [],
   "source": []
  },
  {
   "cell_type": "markdown",
   "id": "3e79fd53",
   "metadata": {},
   "source": [
    "**Q.2** First Unique Character in a String\n",
    "\n",
    "Given a string s, find the first non-repeating character in it and return its index. If it does not exist, return -1.\n",
    "\n",
    "Example 1:\n",
    "Input: s = \"leetcode\"\n",
    "Output: 0\n",
    "\n",
    "Example 2:\n",
    "Input: s = \"loveleetcode\"\n",
    "Output: 2\n",
    "\n",
    "Example 3:\n",
    "Input: s = \"aabb\"\n",
    "Output: -1\n",
    "\n",
    "Constraints:\n",
    "a. 1 <= s.length <= 10^5\n",
    "b. s consists of only lowercase English letters."
   ]
  },
  {
   "cell_type": "code",
   "execution_count": 36,
   "id": "1ddaa9ec",
   "metadata": {},
   "outputs": [],
   "source": [
    "def first_unique_char(s):\n",
    "\n",
    "  char_freq = {}\n",
    "  for c in s:\n",
    "    if c not in char_freq:\n",
    "      char_freq[c] = 1\n",
    "    else:\n",
    "      char_freq[c] += 1\n",
    " \n",
    "  for i in range(len(s)):\n",
    "    if char_freq[s[i]] == 1:\n",
    "      return i\n",
    "\n",
    "  return -1\n"
   ]
  },
  {
   "cell_type": "code",
   "execution_count": 37,
   "id": "530559f2",
   "metadata": {},
   "outputs": [
    {
     "name": "stdout",
     "output_type": "stream",
     "text": [
      "0\n"
     ]
    }
   ],
   "source": [
    "s = \"leetcode\"\n",
    "index = first_unique_char(s)\n",
    "print(index)\n"
   ]
  },
  {
   "cell_type": "code",
   "execution_count": null,
   "id": "93696f27",
   "metadata": {},
   "outputs": [],
   "source": []
  },
  {
   "cell_type": "code",
   "execution_count": null,
   "id": "aabe0544",
   "metadata": {},
   "outputs": [],
   "source": []
  }
 ],
 "metadata": {
  "kernelspec": {
   "display_name": "Python 3",
   "language": "python",
   "name": "python3"
  },
  "language_info": {
   "codemirror_mode": {
    "name": "ipython",
    "version": 3
   },
   "file_extension": ".py",
   "mimetype": "text/x-python",
   "name": "python",
   "nbconvert_exporter": "python",
   "pygments_lexer": "ipython3",
   "version": "3.8.8"
  }
 },
 "nbformat": 4,
 "nbformat_minor": 5
}
